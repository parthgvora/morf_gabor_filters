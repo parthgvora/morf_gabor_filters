{
 "cells": [
  {
   "cell_type": "markdown",
   "metadata": {},
   "source": [
    "Import required packages"
   ]
  },
  {
   "cell_type": "code",
   "execution_count": 1,
   "metadata": {},
   "outputs": [],
   "source": [
    "import sys\n",
    "import numpy as np\n",
    "import pandas as pd\n",
    "\n",
    "from proglearn.progressive_learner import ProgressiveLearner\n",
    "from proglearn.voters import TreeClassificationVoter\n",
    "from proglearn.transformers import TreeClassificationTransformer\n",
    "from proglearn.transformers import ObliqueTreeClassificationTransformer\n",
    "from proglearn.deciders import SimpleArgmaxAverage\n",
    "\n",
    "from sklearn.model_selection import train_test_split, cross_val_score"
   ]
  },
  {
   "cell_type": "markdown",
   "metadata": {},
   "source": [
    "Set parameters"
   ]
  },
  {
   "cell_type": "code",
   "execution_count": 2,
   "metadata": {},
   "outputs": [],
   "source": [
    "max_depth = 10\n",
    "feature_combinations = 2\n",
    "density = 0.01\n",
    "\n",
    "reps = 5\n",
    "n_trees = 10\n",
    "\n",
    "kwargs = {\"kwargs\" : {\"max_depth\" : max_depth, \"feature_combinations\" : feature_combinations, \"density\" : density}}"
   ]
  },
  {
   "cell_type": "markdown",
   "metadata": {},
   "source": [
    "Train and test on data (Hill Valley without noise)"
   ]
  },
  {
   "cell_type": "code",
   "execution_count": 8,
   "metadata": {},
   "outputs": [
    {
     "name": "stdout",
     "output_type": "stream",
     "text": [
      "Accuracy after iteration  0 :  1.0\n",
      "Accuracy after iteration  1 :  1.0\n",
      "Accuracy after iteration  2 :  1.0\n",
      "Accuracy after iteration  3 :  0.9672131147540983\n",
      "Accuracy after iteration  4 :  1.0\n",
      "kappa:  98.68852459016392 , error: 0.0\n"
     ]
    }
   ],
   "source": [
    "default_voter_class = TreeClassificationVoter\n",
    "default_voter_kwargs = {}\n",
    "\n",
    "default_decider_class = SimpleArgmaxAverage\n",
    "    \n",
    "kappa = np.zeros(reps)\n",
    "for i in range(reps):\n",
    "\n",
    "    df = pd.read_csv(\"https://archive.ics.uci.edu/ml/machine-learning-databases/hill-valley/Hill_Valley_without_noise_Training.data\")\n",
    "\n",
    "    X = df[df.columns[:-1]].to_numpy()\n",
    "    y = df[df.columns[-1]].to_numpy()\n",
    "    \n",
    "    n_classes = len(np.unique(y))\n",
    "    X_train, X_test, y_train, y_test = train_test_split(X, y, test_size=0.1, shuffle=True, stratify=y)\n",
    "\n",
    "    default_decider_kwargs = {\"classes\" : np.arange(n_classes)}\n",
    "\n",
    "    pl = ProgressiveLearner(\n",
    "        default_transformer_class = ObliqueTreeClassificationTransformer,\n",
    "        default_transformer_kwargs = kwargs,\n",
    "        default_voter_class = default_voter_class,\n",
    "        default_voter_kwargs = default_voter_kwargs,\n",
    "        default_decider_class = default_decider_class,\n",
    "        default_decider_kwargs = default_decider_kwargs)\n",
    "      \n",
    "    pl.add_task(X_train, y_train, num_transformers=n_trees)\n",
    "\n",
    "    y_hat = pl.predict(X_test, task_id=0)\n",
    "    \n",
    "    acc = np.sum(y_test == y_hat) / len(y_test)\n",
    "    print(\"Accuracy after iteration \", i, \": \", acc)\n",
    "\n",
    "    chance_pred = 1 / n_classes\n",
    "    kappa[i] = (acc - chance_pred) / (1 - chance_pred)\n",
    "\n",
    "kappa = np.mean(kappa) * 100\n",
    "err = (np.std(kappa) * 100) / np.sqrt(reps)\n",
    "\n",
    "print(\"kappa: \", kappa, \", error:\", err)"
   ]
  }
 ],
 "metadata": {
  "kernelspec": {
   "display_name": "venv",
   "language": "python",
   "name": "venv"
  },
  "language_info": {
   "codemirror_mode": {
    "name": "ipython",
    "version": 3
   },
   "file_extension": ".py",
   "mimetype": "text/x-python",
   "name": "python",
   "nbconvert_exporter": "python",
   "pygments_lexer": "ipython3",
   "version": "3.6.9"
  }
 },
 "nbformat": 4,
 "nbformat_minor": 2
}
