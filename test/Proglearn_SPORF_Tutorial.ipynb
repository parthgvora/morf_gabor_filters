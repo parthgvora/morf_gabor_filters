{
 "cells": [
  {
   "cell_type": "markdown",
   "metadata": {},
   "source": [
    "#SPORF Tutorial"
   ]
  },
  {
   "cell_type": "markdown",
   "metadata": {},
   "source": [
    "##Import required packages"
   ]
  },
  {
   "cell_type": "code",
   "execution_count": 5,
   "metadata": {},
   "outputs": [],
   "source": [
    "import sys\n",
    "import numpy as np\n",
    "import pandas as pd\n",
    "\n",
    "from proglearn.progressive_learner import ProgressiveLearner\n",
    "from proglearn.voters import TreeClassificationVoter\n",
    "from proglearn.transformers import TreeClassificationTransformer\n",
    "from proglearn.transformers import ObliqueTreeClassificationTransformer\n",
    "from proglearn.deciders import SimpleArgmaxAverage\n",
    "\n",
    "from sklearn.model_selection import train_test_split, cross_val_score\n",
    "\n",
    "from sporf_tutorial_functions import test"
   ]
  },
  {
   "cell_type": "markdown",
   "metadata": {},
   "source": [
    "##Set parameters and run on hill valley data"
   ]
  },
  {
   "cell_type": "code",
   "execution_count": 6,
   "metadata": {},
   "outputs": [
    {
     "name": "stdout",
     "output_type": "stream",
     "text": [
      "Accuracy after iteration  0 :  1.0\n",
      "Accuracy after iteration  1 :  1.0\n",
      "Accuracy after iteration  2 :  1.0\n",
      "Accuracy after iteration  3 :  1.0\n",
      "Accuracy after iteration  4 :  1.0\n",
      "kappa:  100.0 , error: 0.0\n"
     ]
    }
   ],
   "source": [
    "max_depth = 10\n",
    "feature_combinations = 2\n",
    "density = 0.01\n",
    "reps = 5\n",
    "n_trees = 10\n",
    "task_num = 1\n",
    "\n",
    "kwargs = {\"kwargs\" : {\"max_depth\" : max_depth, \"feature_combinations\" : feature_combinations, \"density\" : density}}\n",
    "\n",
    "kappa, err = test(\"https://archive.ics.uci.edu/ml/machine-learning-databases/hill-valley/Hill_Valley_without_noise_Training.data\", reps, n_trees, task_num,\n",
    "                            ObliqueTreeClassificationTransformer,\n",
    "                            kwargs)\n",
    "\n",
    "print(\"kappa: \", kappa, \", error:\", err)"
   ]
  },
  {
   "cell_type": "markdown",
   "metadata": {},
   "source": [
    "##Set parameters and run on acute inflammation task 1 data"
   ]
  },
  {
   "cell_type": "code",
   "execution_count": 7,
   "metadata": {},
   "outputs": [
    {
     "name": "stdout",
     "output_type": "stream",
     "text": [
      "Accuracy after iteration  0 :  1.0\n",
      "Accuracy after iteration  1 :  1.0\n",
      "Accuracy after iteration  2 :  1.0\n",
      "Accuracy after iteration  3 :  1.0\n",
      "Accuracy after iteration  4 :  1.0\n",
      "kappa:  100.0 , error: 0.0\n"
     ]
    }
   ],
   "source": [
    "max_depth = 10\n",
    "feature_combinations = 1.5\n",
    "density = 0.5\n",
    "reps = 5\n",
    "n_trees = 10\n",
    "task_num = 1\n",
    "\n",
    "kwargs = {\"kwargs\" : {\"max_depth\" : max_depth, \"feature_combinations\" : feature_combinations, \"density\" : density}}\n",
    "\n",
    "kappa, err = test(\"https://archive.ics.uci.edu/ml/machine-learning-databases/acute/diagnosis.data\", reps, n_trees, task_num,\n",
    "                            ObliqueTreeClassificationTransformer,\n",
    "                            kwargs)\n",
    "\n",
    "print(\"kappa: \", kappa, \", error:\", err)"
   ]
  },
  {
   "cell_type": "markdown",
   "metadata": {},
   "source": [
    "##Set parameters and run on acute inflammation task 2 data"
   ]
  },
  {
   "cell_type": "code",
   "execution_count": 8,
   "metadata": {},
   "outputs": [
    {
     "name": "stdout",
     "output_type": "stream",
     "text": [
      "Accuracy after iteration  0 :  1.0\n",
      "Accuracy after iteration  1 :  1.0\n",
      "Accuracy after iteration  2 :  1.0\n",
      "Accuracy after iteration  3 :  1.0\n",
      "Accuracy after iteration  4 :  1.0\n",
      "kappa:  100.0 , error: 0.0\n"
     ]
    }
   ],
   "source": [
    "max_depth = 10\n",
    "feature_combinations = 1.5\n",
    "density = 0.5\n",
    "reps = 5\n",
    "n_trees = 10\n",
    "task_num = 2\n",
    "\n",
    "kwargs = {\"kwargs\" : {\"max_depth\" : max_depth, \"feature_combinations\" : feature_combinations, \"density\" : density}}\n",
    "\n",
    "kappa, err = test(\"https://archive.ics.uci.edu/ml/machine-learning-databases/acute/diagnosis.data\", reps, n_trees, task_num,\n",
    "                            ObliqueTreeClassificationTransformer,\n",
    "                            kwargs)\n",
    "\n",
    "print(\"kappa: \", kappa, \", error:\", err)"
   ]
  }
 ],
 "metadata": {
  "kernelspec": {
   "display_name": "venv",
   "language": "python",
   "name": "venv"
  },
  "language_info": {
   "codemirror_mode": {
    "name": "ipython",
    "version": 3
   },
   "file_extension": ".py",
   "mimetype": "text/x-python",
   "name": "python",
   "nbconvert_exporter": "python",
   "pygments_lexer": "ipython3",
   "version": "3.6.9"
  }
 },
 "nbformat": 4,
 "nbformat_minor": 2
}
